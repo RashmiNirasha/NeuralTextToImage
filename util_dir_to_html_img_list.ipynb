{
  "nbformat": 4,
  "nbformat_minor": 0,
  "metadata": {
    "colab": {
      "name": "util_dir-to-html-img-list.ipynb",
      "provenance": [],
      "collapsed_sections": [],
      "mount_file_id": "1rVUeQCMfwXu_j0pJCWHXeUBACSJQrgyz",
      "authorship_tag": "ABX9TyOHwy3S8YeTaSOH9ZR8AgO3",
      "include_colab_link": true
    },
    "kernelspec": {
      "name": "python3",
      "display_name": "Python 3"
    },
    "language_info": {
      "name": "python"
    }
  },
  "cells": [
    {
      "cell_type": "markdown",
      "metadata": {
        "id": "view-in-github",
        "colab_type": "text"
      },
      "source": [
        "<a href=\"https://colab.research.google.com/github/olaviinha/NeuralTextToImage/blob/main/util_dir_to_html_img_list.ipynb\" target=\"_parent\"><img src=\"https://colab.research.google.com/assets/colab-badge.svg\" alt=\"Open In Colab\"/></a>"
      ]
    },
    {
      "cell_type": "markdown",
      "metadata": {
        "id": "pVxFPluEoUka"
      },
      "source": [
        "#<font face=\"Trebuchet MS\" size=\"6\">Generate HTML list of Big Sleep results<font color=\"#999\" size=\"4\">&nbsp;&nbsp;&nbsp;|&nbsp;&nbsp;&nbsp;</font><a href=\"https://github.com/olaviinha/NeuralTextToImage\" target=\"_blank\"><font color=\"#999\" size=\"4\">Github</font></a>\n",
        "\n",
        "This is a small utility to accompany the [Big Sleep notebooks](https://github.com/olaviinha/NeuralTextToImage). It will generate a simple HTML file that lists all the final images from any of the BigSleep notebooks (`output_dir`). It may be useful if you have generated a lot of images that are all in their designated subdirectories, and want to see all of them at a glance.\n",
        "\n",
        "`drive_dir` should be the same directory you have used as `output_dir` when running one of the Big Sleep notebooks."
      ]
    },
    {
      "cell_type": "code",
      "metadata": {
        "id": "4D3YFbKGoSje",
        "cellView": "form"
      },
      "source": [
        "#@title #Setup\n",
        "#@markdown This cell needs to be run only once. It will mount your Google Drive and setup prerequisites.\n",
        "\n",
        "force_setup = False\n",
        "pip_packages = ''\n",
        "main_repository = ''\n",
        "\n",
        "import os\n",
        "from google.colab import output\n",
        "import warnings\n",
        "warnings.filterwarnings('ignore')\n",
        "%cd /content/\n",
        "\n",
        "# inhagcutils\n",
        "if not os.path.isfile('/content/inhagcutils.ipynb') and force_setup == False:\n",
        "  !pip -q install import-ipynb {pip_packages}\n",
        "  !curl -s -O https://raw.githubusercontent.com/olaviinha/inhagcutils/master/inhagcutils.ipynb\n",
        "import import_ipynb\n",
        "from inhagcutils import *\n",
        "\n",
        "# Mount Drive\n",
        "if not os.path.isdir('/content/drive') and force_setup == False:\n",
        "  from google.colab import drive\n",
        "  drive.mount('/content/drive')\n",
        "\n",
        "# Drive symlink\n",
        "if not os.path.isdir('/content/mydrive') and force_setup == False:\n",
        "  os.symlink('/content/drive/My Drive', '/content/mydrive')\n",
        "  drive_root_set = True\n",
        "drive_root = '/content/mydrive/'\n",
        "\n",
        "# !git clone {main_repository}\n",
        "\n",
        "output.clear()\n",
        "# !nvidia-smi\n",
        "op(c.ok, 'Setup finished.')"
      ],
      "execution_count": null,
      "outputs": []
    },
    {
      "cell_type": "code",
      "metadata": {
        "id": "EBuZ6jhBo1ro",
        "cellView": "form"
      },
      "source": [
        "#@title # Do stuff\n",
        "drive_dir = \"\" #@param {type:\"string\"}\n",
        "filename = \"list.html\" #@param {type:\"string\"}\n",
        "drive_dir = fix_path(drive_root+drive_dir)\n",
        "\n",
        "\n",
        "head = '<!doctype html>\\n<html lang=\"en\">\\n<head>\\n<meta charset=\"utf-8\">\\n<style type=\"text/css\">\\nbody { background: #000; text-align: center; color: #666; }\\n.caption { color: #999; margin: 40px 0 0 0; }\\n.img { padding: 100px 0; width: auto; margin: auto; display: inline-block; } .img .caption { opacity: 0; transition: all .2s ease-in-out; }\\n .img:hover .caption { opacity: 1;} \\n</style>\\n</head>\\n<body>\\n'\n",
        "foot = '</body>\\n</html>'\n",
        "\n",
        "import glob, os\n",
        "from IPython.display import Image\n",
        "\n",
        "dirs = glob.glob(drive_dir+'/*')\n",
        "html_file = drive_dir+filename\n",
        "html = open(html_file,'w')\n",
        "html.writelines(head+'\\n')\n",
        "\n",
        "imgs = []\n",
        "for dir in dirs:\n",
        "  img_file = dir.split('_')[-1]\n",
        "  img = dir+'/'+img_file+'.png'\n",
        "  imgs.append(img)\n",
        "  relative_link = img.replace(drive_dir, '')\n",
        "  # if os.path.isfile(img):\n",
        "  #   Image(filename=img)\n",
        "  # else:\n",
        "  #   op(c.warn, 'Not found:', img)\n",
        "  img_tag = '<div class=\"img\"><img src=\"'+relative_link+'\"><div class=\"caption\">'+relative_link.split('/')[0]+'</div></div><br>'\n",
        "  html.writelines(img_tag)\n",
        "  \n",
        "html.writelines(foot+'\\n')\n",
        "html.close()\n",
        "\n",
        "\n",
        "\n"
      ],
      "execution_count": null,
      "outputs": []
    }
  ]
}